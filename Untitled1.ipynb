{
  "nbformat": 4,
  "nbformat_minor": 0,
  "metadata": {
    "colab": {
      "provenance": [],
      "authorship_tag": "ABX9TyMtFrZ8r2xAtUXgYIeAgzca",
      "include_colab_link": true
    },
    "kernelspec": {
      "name": "python3",
      "display_name": "Python 3"
    },
    "language_info": {
      "name": "python"
    }
  },
  "cells": [
    {
      "cell_type": "markdown",
      "metadata": {
        "id": "view-in-github",
        "colab_type": "text"
      },
      "source": [
        "<a href=\"https://colab.research.google.com/github/scarface414/python-learnings/blob/main/Untitled1.ipynb\" target=\"_parent\"><img src=\"https://colab.research.google.com/assets/colab-badge.svg\" alt=\"Open In Colab\"/></a>"
      ]
    },
    {
      "cell_type": "markdown",
      "source": [
        "**List Comprehension**"
      ],
      "metadata": {
        "id": "M1t3MAlO9ZaY"
      }
    },
    {
      "cell_type": "code",
      "execution_count": 1,
      "metadata": {
        "id": "iex05r1D9LZW"
      },
      "outputs": [],
      "source": [
        "numbers = [1,2,5,6,7,14,19,22,23]\n",
        "words = ['fox' , 'auto' , 'mobile' , 'anger' , 'assault']\n",
        "\n",
        "#the following are the examples of list comprehension\n",
        "newList1 = [ x for x in numbers if not x&1]\n",
        "expo2 =   [ [x,x*x] for x in numbers]\n",
        "test2 =   [ 2 **x  for x in numbers]\n",
        "testset = [ 3**x for x in range(10)]\n",
        "test =    [x for x in range(30) if not x&1] # the if in the ends selects only those words\n",
        "newword = [ x.upper() if x.startswith('a') else x for x in words]"
      ]
    },
    {
      "cell_type": "markdown",
      "source": [
        "**MAP Funciton**"
      ],
      "metadata": {
        "id": "PjRdrd2JNMUr"
      }
    },
    {
      "cell_type": "code",
      "source": [
        "def square(x) :\n",
        "    return x*x\n",
        "\n",
        "numbers = [1,5,7,9]\n",
        "\n",
        "newlist = [square(x) for x in numbers]\n",
        "print(newlist)\n",
        "\n",
        "newlist1 = map(square , numbers)\n",
        "print(list(newlist1))\n",
        "\n",
        "strlist = map(str , numbers)\n",
        "print(list(strlist))\n",
        "\n",
        "\n",
        "##ternary\n",
        "\n",
        "number = 10000\n",
        "print( \"Number is very large\" if number > 1000 else \"number is large\" if number > 100 else \"number is small but positive\" if number > 0 else \"number is zero\" if number == 0 else \"Number is negative\")"
      ],
      "metadata": {
        "id": "QB7SRvhh9QAB"
      },
      "execution_count": 1,
      "outputs": []
    },
    {
      "cell_type": "code",
      "source": [
        "expo = lambda x : 2 ** x\n",
        "minfunc = lambda x , y : x if x < y else y\n",
        "msum = lambda *args : sum(args)\n",
        "\n",
        "for x in range(10) :\n",
        "    print(expo(x) , end = ' ')\n",
        "\n",
        "print(minfunc(5,10))\n",
        "print(msum(5,10,15,20))\n",
        "print((lambda x : x ** 3)(5))\n",
        "\n",
        "#this is one of the practical\n",
        "nums = [1,3,5,7,18,22,31,46]\n",
        "print(nums)\n",
        "\n",
        "temp = list(filter(lambda x : x&1 , nums))\n",
        "print(temp)\n",
        "\n",
        "#filter function require a callable function as first parameter and second parameter as list\n",
        "#so does a map function\n",
        "\n",
        "squaredList = list(map(lambda x : x*x , nums))\n",
        "print(squaredList)\n",
        "\n",
        "#no need to define the function formally\n",
        "\n",
        "#this is also a great use of the lambda and cross function\n",
        "def multiplier(num) :\n",
        "  return lambda x : x * num\n",
        "\n",
        "tenMultiplier = multiplier(10)\n",
        "print(list(map(tenMultiplier , nums)))"
      ],
      "metadata": {
        "colab": {
          "base_uri": "https://localhost:8080/"
        },
        "id": "F4ROkLPZkMDx",
        "outputId": "5f579efa-d07d-4b2f-a709-56655cde51a4"
      },
      "execution_count": 2,
      "outputs": [
        {
          "output_type": "stream",
          "name": "stdout",
          "text": [
            "1 2 4 8 16 32 64 128 256 512 5\n",
            "50\n",
            "125\n",
            "[1, 3, 5, 7, 18, 22, 31, 46]\n",
            "[1, 3, 5, 7, 31]\n",
            "[1, 9, 25, 49, 324, 484, 961, 2116]\n",
            "[10, 30, 50, 70, 180, 220, 310, 460]\n"
          ]
        }
      ]
    },
    {
      "cell_type": "code",
      "source": [
        "#how to swap numbers\n",
        "#a , b , c , d = b , d , a , c"
      ],
      "metadata": {
        "colab": {
          "base_uri": "https://localhost:8080/"
        },
        "id": "f5L2pIUdmN2l",
        "outputId": "3a583d56-1442-42dd-ad17-72a39b8f3090"
      },
      "execution_count": 5,
      "outputs": [
        {
          "output_type": "stream",
          "name": "stdout",
          "text": [
            "18 [18, 19, 26, 39] [10, 25, 16] [10, 25, 16, 18, 19, 26, 39]\n",
            "[10, 25, 16, 18, 19]\n"
          ]
        }
      ]
    },
    {
      "cell_type": "code",
      "source": [
        "templist = [10,25,16,18,19,26,39]\n",
        "print(templist[3] , templist[3:] , templist[:3] , templist[:])\n",
        "print(templist[:-2])\n",
        "\n",
        "lastfour = templist[-4:]\n",
        "print(lastfour)\n",
        "\n",
        "lasttwo = slice(-2,None)\n",
        "firstfour = slice(4)\n",
        "afterfour = slice(4,None)\n",
        "\n",
        "print(templist[lasttwo] , templist[firstfour] , templist[afterfour])\n",
        "\n",
        "alternate = slice(None , None , 2)\n",
        "print(templist[alternate])\n",
        "\n"
      ],
      "metadata": {
        "colab": {
          "base_uri": "https://localhost:8080/"
        },
        "id": "20lEe95_zMZ4",
        "outputId": "bea39bf7-a1e2-4daa-c305-f20961ba17ee"
      },
      "execution_count": 14,
      "outputs": [
        {
          "output_type": "stream",
          "name": "stdout",
          "text": [
            "18 [18, 19, 26, 39] [10, 25, 16] [10, 25, 16, 18, 19, 26, 39]\n",
            "[10, 25, 16, 18, 19]\n",
            "[18, 19, 26, 39]\n",
            "[26, 39] [10, 25, 16, 18] [19, 26, 39]\n",
            "[10, 16, 19, 39]\n"
          ]
        }
      ]
    },
    {
      "cell_type": "markdown",
      "source": [
        "**Reverse String**"
      ],
      "metadata": {
        "id": "0VijV1kuLAGu"
      }
    },
    {
      "cell_type": "code",
      "source": [
        "nums = [1,2,3,4,5,6,7,8]\n",
        "\n",
        "for index in range(int(len(nums)/2)) :\n",
        "    nums[index] , nums[len(nums)-1-index] = nums[len(nums)-1-index] , nums[index]\n",
        "\n",
        "print(nums)\n",
        "\n",
        "values = list(reversed(templist))\n",
        "print(templist , values)\n",
        "values.reverse()\n",
        "print(values)\n",
        "\n",
        "print(values[::-1] , values)\n"
      ],
      "metadata": {
        "colab": {
          "base_uri": "https://localhost:8080/"
        },
        "id": "4xBSPUS8ziK7",
        "outputId": "87457ebe-5a25-4bea-a616-a46b5843550b"
      },
      "execution_count": 19,
      "outputs": [
        {
          "output_type": "stream",
          "name": "stdout",
          "text": [
            "[10, 25, 16, 18, 19, 26, 39] [39, 26, 19, 18, 16, 25, 10]\n",
            "[10, 25, 16, 18, 19, 26, 39]\n",
            "[39, 26, 19, 18, 16, 25, 10] [10, 25, 16, 18, 19, 26, 39]\n"
          ]
        }
      ]
    },
    {
      "cell_type": "code",
      "source": [
        "name = \"Nishith\"\n",
        "age = 25\n",
        "cgpa = 8.410235\n",
        "\n",
        "print(\"Hello my name is \" + name + \" and my age is \" + str(age))\n",
        "print(\"Hello my name is %s and my age is %d and my age is %.2f\" %(name , age, cgpa))\n",
        "print(\"Hello my name is {} and my age is {}\".format(name,age))\n",
        "\n",
        "print(f\"Hello my name is {name} and my age is {age}\")\n",
        "print(f\"Hello my name is {name} and my age is {age} and its an {'even' if not age&1 else 'odd'} number and my cgpa is {cgpa:.2f}\")\n"
      ],
      "metadata": {
        "id": "Rp3c2Yoh8zJb"
      },
      "execution_count": null,
      "outputs": []
    },
    {
      "cell_type": "code",
      "source": [
        "letters = ['a' , 'd' , 'c' , 'f' , 'b']\n",
        "nums = [1,5,3,2,4]\n",
        "\n",
        "print(dict(zip(letters , nums)))\n",
        "print(list(zip(letters , nums)))"
      ],
      "metadata": {
        "id": "0xfRgQ0FXFxD"
      },
      "execution_count": null,
      "outputs": []
    }
  ]
}